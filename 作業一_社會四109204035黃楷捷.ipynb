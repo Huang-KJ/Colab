{
  "nbformat": 4,
  "nbformat_minor": 0,
  "metadata": {
    "colab": {
      "provenance": [],
      "authorship_tag": "ABX9TyMt8Q02ZiIWuX3H0xKfFEBY",
      "include_colab_link": true
    },
    "kernelspec": {
      "name": "python3",
      "display_name": "Python 3"
    },
    "language_info": {
      "name": "python"
    }
  },
  "cells": [
    {
      "cell_type": "markdown",
      "metadata": {
        "id": "view-in-github",
        "colab_type": "text"
      },
      "source": [
        "<a href=\"https://colab.research.google.com/github/Huang-KJ/Colab/blob/main/%E4%BD%9C%E6%A5%AD%E4%B8%80_%E7%A4%BE%E6%9C%83%E5%9B%9B109204035%E9%BB%83%E6%A5%B7%E6%8D%B7.ipynb\" target=\"_parent\"><img src=\"https://colab.research.google.com/assets/colab-badge.svg\" alt=\"Open In Colab\"/></a>"
      ]
    },
    {
      "cell_type": "code",
      "execution_count": null,
      "metadata": {
        "id": "Zu77mTBm9yKO"
      },
      "outputs": [],
      "source": []
    }
  ]
}